{
  "nbformat": 4,
  "nbformat_minor": 0,
  "metadata": {
    "colab": {
      "provenance": []
    },
    "kernelspec": {
      "name": "python3",
      "display_name": "Python 3"
    },
    "language_info": {
      "name": "python"
    }
  },
  "cells": [
    {
      "cell_type": "markdown",
      "source": [
        "Q.1  What is Python, and why is it popular ?\n",
        "\n",
        "\n",
        "   Ans-  Python is a simple and easy language. Python is a versatile, High programming language widely used for readability, simplicity, and extensive libraries.\n",
        "\n",
        "\n",
        "Why is Python Popular?\n",
        "\n",
        "Easy to Learn and Use :- Python has clean and simple syntax\n",
        "\n",
        "Extensive Libraries :- Python has a vast collection of libraries (e.g., NumPy, Pandas, Matplotlib)\n",
        "\n",
        "Strong Community Support :- Python has a large, active community that provides extensive documentation, tutorials, and support forums.\n",
        "\n",
        "Cross-Platform Compatibility :- Python runs on all major operating systems\n",
        "(Windows, macOS, Linux).\n",
        "\n",
        "\n",
        "\n",
        "---\n",
        "\n",
        "\n",
        "Q.2 What is an interpreter in Python\n",
        "\n",
        "   Ans :-\n",
        "   A python interprter is the software that readds and runs pythin code line by line. It processes the code, converts it into an intermediate form called bytecode, and executes it using the pthon virtual Machine (PVM).\n",
        "\n",
        "   This allows python to be easy to test and debug,without needing a separate compilation step.\n",
        "\n",
        "\n",
        "---\n",
        "\n",
        "\n",
        "\n",
        "\n",
        "Q.3 What are pre - defined keywords in Python\n",
        "    \n",
        "   Ans :- Pre-defined keywords in Python are reserved words that have special meaning in the language. Python uses them to define the structure and rules of the program. You cannot use them as variable, function, or class names.\n",
        "\n",
        "   Example :\n",
        "\n",
        "            * if, elif, else - for conditions  \n",
        "            * for, while - for loops\n",
        "            * true, false, none - special constants\n",
        "            * and, or, not - for logic\n",
        "            * def, cls - to create functions and classes\n",
        "  \n",
        "\n",
        "---\n",
        "\n",
        "\n",
        "\n",
        "Q.4 Can keywords be used as variable names\n",
        "\n",
        "   Ans :- No, keywords cannot be used as variable names in Python.\n",
        "             Because Keywords are reserved words that have special meaning in Python (like if, else, for, while, etc.). Using them as variable names will cause a syntax error.\n",
        "\n",
        "\n",
        "---\n",
        "\n",
        "\n",
        "\n",
        "\n",
        "Q.5 What is mutability in Python\n",
        "\n",
        "  Ans :- Mutability in Python means whether a value can be changed after it's created.\n",
        "                 Mutable can be changeable. (e.g. list,set.)\n",
        "                 Immutable cannot be changeable.(int,str,tuple)\n",
        "        \n",
        "\n",
        "---\n",
        "\n",
        "\n",
        "\n",
        "Q.6 Why are lists mutable, but tuples are immutable\n",
        "\n",
        "  Ans :- Lists are mutable because they are designed to store changing data.                                                                         \n",
        "  \n",
        "  You can add, remove, or change elements after creation.\n",
        "\n",
        "   Tuples are immutable because they are meant to store fixed, unchangeable data.         \n",
        "\n",
        "   Once created, their values cannot be altered.\n",
        "\n",
        "\n",
        "---\n",
        "\n",
        "\n",
        "\n",
        "\n",
        " Q.7 What is the difference between “==” and “is” operators in Python\n",
        " Ans :- Difference between “==” and “is” operator -\n",
        "\n",
        "                 == : is check if two variables are same values.\n",
        "                 Is : checks if two variables point to the same object in memory.\n",
        "\n",
        "\n"
      ],
      "metadata": {
        "id": "tsEKrY7B-UZy"
      }
    },
    {
      "cell_type": "code",
      "source": [
        "\n",
        "x = [1, 2, 3]\n",
        "y = [1, 2, 3]\n",
        "print(x == y)      # True: values are equal\n",
        "print(x is y)      #  False: different objects in memory\n"
      ],
      "metadata": {
        "colab": {
          "base_uri": "https://localhost:8080/"
        },
        "id": "_K4EOFHw-RJr",
        "outputId": "411209ab-be0d-4ffa-e54a-5e8674a65218"
      },
      "execution_count": null,
      "outputs": [
        {
          "output_type": "stream",
          "name": "stdout",
          "text": [
            "True\n",
            "False\n"
          ]
        }
      ]
    },
    {
      "cell_type": "markdown",
      "source": [
        "\n",
        "\n",
        "---\n",
        "\n",
        "\n",
        "\n",
        "---\n",
        "\n",
        "\n",
        "Q.8 What are logical operators in Python\n",
        "\n",
        "\n",
        "Ans :- Logical operator in python are used to combine the multiple  conditions (Boolean expression ) . The return either True Or False basic  on logic.\n",
        "Logical operators are “and , or , not ” used to combine the conditions in python program.\n",
        "\n",
        "Operator\n",
        "\n",
        "AND — True if both condition are true.\n",
        " Example – x > 5 and x < 10\n",
        "\n",
        "OR —  True if at least on condition is True   \n",
        "              Example – x > 5 or x < 3\n",
        "\n",
        "NOT — Reverse the result(True → False)  Ex – not(x>5)\n"
      ],
      "metadata": {
        "id": "utteAWQQCBuX"
      }
    },
    {
      "cell_type": "code",
      "source": [
        "x = 7\n",
        "\n",
        "print(x > 5 and x < 10)   # True\n",
        "print(x < 5 or x > 10)    # False\n",
        "print(not(x > 5))         # False\n"
      ],
      "metadata": {
        "colab": {
          "base_uri": "https://localhost:8080/"
        },
        "id": "kIcr6sL0-i5G",
        "outputId": "8bf2ecfc-8a9d-4865-ec73-a2849ee5df36"
      },
      "execution_count": null,
      "outputs": [
        {
          "output_type": "stream",
          "name": "stdout",
          "text": [
            "True\n",
            "False\n",
            "False\n"
          ]
        }
      ]
    },
    {
      "cell_type": "markdown",
      "source": [
        "\n",
        "\n",
        "---\n",
        "\n",
        "\n",
        "\n",
        "---\n",
        "\n",
        "\n",
        "Q.9 What is type casting in Python\n",
        "\n",
        " Ans :- Type casting in python means converting one data type into another.\n",
        "\n",
        "   Example – Changing a number (int) to a string (str), or a string to a float.\n",
        "              Common type casting Functions are : int(), float(), str(), bool().\n",
        "\n",
        "Type casting is the process of changing data from one type to another, like from\n",
        "              Str to int .\n"
      ],
      "metadata": {
        "id": "FBd4BlBpClbb"
      }
    },
    {
      "cell_type": "code",
      "source": [
        "a = \"100\"\n",
        "b = int(a)\n",
        "print(b + 20)\n"
      ],
      "metadata": {
        "colab": {
          "base_uri": "https://localhost:8080/"
        },
        "id": "JpsfTcCvCW6y",
        "outputId": "8ff2b8a8-7d28-4f55-d370-de088ca2919f"
      },
      "execution_count": null,
      "outputs": [
        {
          "output_type": "stream",
          "name": "stdout",
          "text": [
            "120\n"
          ]
        }
      ]
    },
    {
      "cell_type": "markdown",
      "source": [
        "\n",
        "\n",
        "---\n",
        "\n",
        "\n",
        "\n",
        "---\n",
        "\n",
        "\n",
        "Q.10 What is the difference between implicit and explicit type casting\n",
        "\n",
        "Ans :-  Implicit Type Casting\n",
        "\n",
        "  Python automatically converts one data type to another without your help.\n",
        "\n",
        "Explicit Type Casting\n",
        "\n",
        "  You manually convert one data type to another using functions like          \n",
        "   int(), float() or str().\n"
      ],
      "metadata": {
        "id": "88b8po7QDFB8"
      }
    },
    {
      "cell_type": "code",
      "source": [
        "#impicit type casting\n",
        "x = 5       # int\n",
        "y = 2.5     # float\n",
        "z = x + y   # x is automatically converted to float\n",
        "print(z)\n"
      ],
      "metadata": {
        "colab": {
          "base_uri": "https://localhost:8080/"
        },
        "id": "YIESP1dlC5lt",
        "outputId": "7df8253b-7c0c-4973-e37d-22971cab8385"
      },
      "execution_count": null,
      "outputs": [
        {
          "output_type": "stream",
          "name": "stdout",
          "text": [
            "7.5\n"
          ]
        }
      ]
    },
    {
      "cell_type": "code",
      "source": [
        "# Explicit type casting\n",
        "a = \"10\"\n",
        "b = int(a)   # manually casting string to int\n",
        "print(b + 5) # Output: 15\n"
      ],
      "metadata": {
        "colab": {
          "base_uri": "https://localhost:8080/"
        },
        "id": "5aJPBhWGDeiT",
        "outputId": "c7670f46-d2b8-40c5-95a6-cdf5b8ea853b"
      },
      "execution_count": null,
      "outputs": [
        {
          "output_type": "stream",
          "name": "stdout",
          "text": [
            "15\n"
          ]
        }
      ]
    },
    {
      "cell_type": "markdown",
      "source": [
        "\n",
        "\n",
        "---\n",
        "\n",
        "\n",
        "\n",
        "---\n",
        "\n",
        "\n",
        "Q.11 What is the purpose of conditional statements in Python\n",
        "\n",
        " Ans :- Conditional statements allow your Python program to make decisions and run specific code based on conditions.\n",
        "\n",
        "Conditional statements are used to make decisions in a Python program.\n",
        "They let the program choose different actions based on whether a condition is True or False.\n"
      ],
      "metadata": {
        "id": "CJAuxZ9KD7M3"
      }
    },
    {
      "cell_type": "code",
      "source": [
        "age = 18\n",
        "if age >= 18:\n",
        "    print(\"You can vote.\")\n",
        "else:\n",
        "    print(\"You cannot vote.\")\n"
      ],
      "metadata": {
        "colab": {
          "base_uri": "https://localhost:8080/"
        },
        "id": "KQGFhWJADuIJ",
        "outputId": "66a9e814-d3ba-4792-bdab-b612985ada6b"
      },
      "execution_count": null,
      "outputs": [
        {
          "output_type": "stream",
          "name": "stdout",
          "text": [
            "You can vote.\n"
          ]
        }
      ]
    },
    {
      "cell_type": "markdown",
      "source": [],
      "metadata": {
        "id": "G9aL-iKkD1V8"
      }
    },
    {
      "cell_type": "markdown",
      "source": [
        "\n",
        "\n",
        "---\n",
        "\n",
        "\n",
        "\n",
        "---\n",
        "\n",
        "\n",
        " Q.13 What is the difference between for and while loops\n",
        " Ans :-  \n",
        "**For Loop**\n",
        "\n",
        "Use Case - \tWhen you know how many times to loop.\n",
        "\n",
        "Loop Control - Uses a sequence (like list, range).\n",
        "\n",
        "Comman Use - Iterating over items.\n",
        "\n",
        "**While loop**\n",
        "\n",
        "Use case - When you don't know how many times to loop.\n",
        "\n",
        "\n",
        "Loop case - Loops while a condition is True.\n",
        "\n",
        "\n",
        "Common Use - Repeating until a condition changes."
      ],
      "metadata": {
        "id": "BaqlXNX9Fk3K"
      }
    },
    {
      "cell_type": "code",
      "source": [
        "x = 20\n",
        "\n",
        "if x < 10:\n",
        "    print(\"Less than 10\")\n",
        "elif x < 30:\n",
        "    print(\"Less than 30\")\n",
        "else:\n",
        "    print(\"30 or more\")\n"
      ],
      "metadata": {
        "colab": {
          "base_uri": "https://localhost:8080/"
        },
        "id": "4cImKM9-KHva",
        "outputId": "7df82ba5-7294-48f3-a5c3-217a36118ab9"
      },
      "execution_count": null,
      "outputs": [
        {
          "output_type": "stream",
          "name": "stdout",
          "text": [
            "Less than 30\n"
          ]
        }
      ]
    },
    {
      "cell_type": "markdown",
      "source": [
        "\n",
        "\n",
        "---\n",
        "\n",
        "\n",
        "---\n",
        "\n",
        "\n",
        "\n",
        "\n",
        "Q.12 How does the elif statement work\n",
        "\n",
        "Ans :-  How it is work\n",
        "\n",
        "python check the first **if** conditon\n",
        "\n",
        "If **if** is False, it check the next **elif** condition\n",
        "\n",
        "You can have many **elif** statements.\n",
        "\n",
        "If none are True, the esle block runs (if present).\n",
        "\n",
        "\n"
      ],
      "metadata": {
        "id": "O5fwgj9DE5bR"
      }
    },
    {
      "cell_type": "code",
      "source": [
        "# for loop\n",
        "for i in range(5):\n",
        "    print(i)\n"
      ],
      "metadata": {
        "colab": {
          "base_uri": "https://localhost:8080/"
        },
        "id": "YA11Rqw8EJXc",
        "outputId": "0221dd6d-ae71-4628-84d5-355a310c3ac9"
      },
      "execution_count": null,
      "outputs": [
        {
          "output_type": "stream",
          "name": "stdout",
          "text": [
            "0\n",
            "1\n",
            "2\n",
            "3\n",
            "4\n"
          ]
        }
      ]
    },
    {
      "cell_type": "code",
      "source": [
        "#while loop\n",
        "i = 0\n",
        "while i < 5:\n",
        "    print(i)\n",
        "    i += 1\n"
      ],
      "metadata": {
        "colab": {
          "base_uri": "https://localhost:8080/"
        },
        "id": "nOLKohWmInhs",
        "outputId": "980e77e6-154e-4f9e-c526-d4ebd9894353"
      },
      "execution_count": null,
      "outputs": [
        {
          "output_type": "stream",
          "name": "stdout",
          "text": [
            "0\n",
            "1\n",
            "2\n",
            "3\n",
            "4\n"
          ]
        }
      ]
    },
    {
      "cell_type": "markdown",
      "source": [
        "\n",
        "\n",
        "---\n",
        "\n",
        "\n",
        "\n",
        "---\n",
        "\n",
        "\n",
        "Q.14  Describe a scenario where a while loop is more suitable than a for loop\n",
        "\n",
        "Ans :-  Use a while loop when you need to repeat something until a condition is met, and you don't know how many times it will happen.\n"
      ],
      "metadata": {
        "id": "A2EODQiDK2i8"
      }
    },
    {
      "cell_type": "code",
      "source": [
        "answer = \"\"\n",
        "\n",
        "while answer != \"stop\":\n",
        "    answer = input(\"Type 'stop' to end: \")\n",
        "\n"
      ],
      "metadata": {
        "colab": {
          "base_uri": "https://localhost:8080/"
        },
        "id": "s1tXb2f9IrCA",
        "outputId": "dc45ae86-f2ba-4697-9ebd-7f8129b80eb6"
      },
      "execution_count": null,
      "outputs": [
        {
          "name": "stdout",
          "output_type": "stream",
          "text": [
            "Type 'stop' to end: end\n",
            "Type 'stop' to end: end\n",
            "Type 'stop' to end: om\n",
            "Type 'stop' to end: after stop  its end the loop\n",
            "Type 'stop' to end: stop\n"
          ]
        }
      ]
    },
    {
      "cell_type": "markdown",
      "source": [
        "\n",
        "\n",
        "---\n",
        "\n",
        "\n",
        "\n",
        "---\n",
        "\n",
        "end\n"
      ],
      "metadata": {
        "id": "rT9Qy7piLxyJ"
      }
    },
    {
      "cell_type": "code",
      "source": [],
      "metadata": {
        "id": "9EzKupRuLaCm"
      },
      "execution_count": null,
      "outputs": []
    },
    {
      "cell_type": "markdown",
      "source": [
        "**Practical Question**\n",
        "\n",
        "---\n",
        "\n",
        "\n",
        "\n",
        "---\n",
        "\n"
      ],
      "metadata": {
        "id": "epce7Qoj9w9S"
      }
    },
    {
      "cell_type": "code",
      "source": [
        "# 1. Write a Python program to print \"Hello, World!\n",
        "print(\"Hello, World!\")"
      ],
      "metadata": {
        "colab": {
          "base_uri": "https://localhost:8080/"
        },
        "id": "DC-7_jam94Qe",
        "outputId": "721cea48-d491-4032-d9dc-fc668cf0963c"
      },
      "execution_count": 1,
      "outputs": [
        {
          "output_type": "stream",
          "name": "stdout",
          "text": [
            "Hello, World!\n"
          ]
        }
      ]
    },
    {
      "cell_type": "code",
      "source": [
        "# 2.Write a Python program that displays your name and age\n",
        "name = \"Om Chaudhari\"\n",
        "age = 20\n",
        "print(\"Name:\", name)\n",
        "print(\"Age:\", age)\n"
      ],
      "metadata": {
        "colab": {
          "base_uri": "https://localhost:8080/"
        },
        "id": "X61ZdnRj985X",
        "outputId": "18f9a2ff-4a6e-4753-f5a5-de68c0c8c583"
      },
      "execution_count": 2,
      "outputs": [
        {
          "output_type": "stream",
          "name": "stdout",
          "text": [
            "Name: Om Chaudhari\n",
            "Age: 20\n"
          ]
        }
      ]
    },
    {
      "cell_type": "code",
      "source": [
        "# 3.Write code to print all the pre-defined keywords in Python using the keyword library\n",
        "help(\"keywords\")\n",
        "\n",
        "\n"
      ],
      "metadata": {
        "colab": {
          "base_uri": "https://localhost:8080/"
        },
        "id": "RfW_V5ho-Miu",
        "outputId": "6ffe3b9c-29cf-4bf5-ef8b-bf837c444f91"
      },
      "execution_count": 4,
      "outputs": [
        {
          "output_type": "stream",
          "name": "stdout",
          "text": [
            "\n",
            "Here is a list of the Python keywords.  Enter any keyword to get more help.\n",
            "\n",
            "False               class               from                or\n",
            "None                continue            global              pass\n",
            "True                def                 if                  raise\n",
            "and                 del                 import              return\n",
            "as                  elif                in                  try\n",
            "assert              else                is                  while\n",
            "async               except              lambda              with\n",
            "await               finally             nonlocal            yield\n",
            "break               for                 not                 \n",
            "\n"
          ]
        }
      ]
    },
    {
      "cell_type": "code",
      "source": [
        "# 4.Write a program that checks if a given word is a Python keyword.\n",
        "\n",
        "keywords = \"if else for while def class return\"\n",
        "\n",
        "word = input(\"Enter a word: \")\n",
        "\n",
        "if word in keywords.split():\n",
        "    print(\" It is a Python keyword.\")\n",
        "else:\n",
        "    print(\" It is NOT a Python keyword.\")\n",
        "\n"
      ],
      "metadata": {
        "colab": {
          "base_uri": "https://localhost:8080/"
        },
        "id": "kVS1FgqB-WEg",
        "outputId": "6cdd1114-8707-4e4b-c415-b16099b09a5e"
      },
      "execution_count": 6,
      "outputs": [
        {
          "output_type": "stream",
          "name": "stdout",
          "text": [
            "Enter a word: if\n",
            " It is a Python keyword.\n"
          ]
        }
      ]
    },
    {
      "cell_type": "code",
      "source": [
        "#5. Create a list and tuple in Python, and demonstrate how attempting to change an element works differently for each\n",
        "# Create a list and a tuple\n",
        "my_list = [10, 20, 30]\n",
        "my_tuple = (10, 20, 30)\n",
        "\n",
        "# Modify an element in the list\n",
        "my_list[1] = 99\n",
        "print(\"Updated List:\", my_list)  #  Allowed (lists are mutable)\n",
        "\n",
        "# Try modifying the tuple\n",
        "try:\n",
        "    my_tuple[1] = 99             #  Not allowed (tuples are immutable)\n",
        "except TypeError as e:\n",
        "    print(\"Error with Tuple:\", e)\n",
        "\n",
        "\n"
      ],
      "metadata": {
        "colab": {
          "base_uri": "https://localhost:8080/"
        },
        "id": "1J0ENJPl_lyu",
        "outputId": "a8144710-5dfd-4cff-d6f8-a0c5e3bcfb1b"
      },
      "execution_count": 8,
      "outputs": [
        {
          "output_type": "stream",
          "name": "stdout",
          "text": [
            "Updated List: [10, 99, 30]\n",
            "Error with Tuple: 'tuple' object does not support item assignment\n"
          ]
        }
      ]
    },
    {
      "cell_type": "code",
      "source": [
        "#Write a function to demonstrate the behavior of mutable and immutable arguments\n",
        "# Immutable example\n",
        "a = 5\n",
        "b = a\n",
        "b = b + 1\n",
        "print(\"a:\", a)  # a is still 5\n",
        "\n",
        "# Mutable example\n",
        "x = [1, 2]\n",
        "y = x\n",
        "y.append(10)\n",
        "print(\"x:\", x)  # x is changed to [1, 2, 10]\n"
      ],
      "metadata": {
        "colab": {
          "base_uri": "https://localhost:8080/"
        },
        "id": "EfO6Of6vADJs",
        "outputId": "5e58b00c-db72-422f-cdda-f21a1d6bf9d6"
      },
      "execution_count": 9,
      "outputs": [
        {
          "output_type": "stream",
          "name": "stdout",
          "text": [
            "a: 5\n",
            "x: [1, 2, 10]\n"
          ]
        }
      ]
    },
    {
      "cell_type": "code",
      "source": [
        "#Write a program that performs basic arithmetic operations on two user-input numbers\n",
        "# Take input\n",
        "a = float(input(\"Enter first number: \"))\n",
        "b = float(input(\"Enter second number: \"))\n",
        "\n",
        "# Perform operations\n",
        "print(\"Addition:\", a + b)\n",
        "print(\"Subtraction:\", a - b)\n",
        "print(\"Multiplication:\", a * b)\n",
        "print(\"Division:\", a / b)\n"
      ],
      "metadata": {
        "colab": {
          "base_uri": "https://localhost:8080/"
        },
        "id": "HC0dfz89A_3p",
        "outputId": "d54bfe96-df60-41a4-bd64-14a145958e6f"
      },
      "execution_count": 10,
      "outputs": [
        {
          "output_type": "stream",
          "name": "stdout",
          "text": [
            "Enter first number: 5\n",
            "Enter second number: 4\n",
            "Addition: 9.0\n",
            "Subtraction: 1.0\n",
            "Multiplication: 20.0\n",
            "Division: 1.25\n"
          ]
        }
      ]
    },
    {
      "cell_type": "code",
      "source": [
        "# Write a program to demonstrate the use of logical operators\n",
        "a = int(input(\"Enter first number: \"))\n",
        "b = int(input(\"Enter second number: \"))\n",
        "\n",
        "# Demonstrate logical operators\n",
        "print(\"a > 0 and b > 0:\", a > 0 and b > 0)\n",
        "print(\"a > 0 or b > 0:\", a > 0 or b > 0)\n",
        "print(\"not (a > 0):\", not (a > 0))\n"
      ],
      "metadata": {
        "colab": {
          "base_uri": "https://localhost:8080/"
        },
        "id": "j2BukwkuBXvC",
        "outputId": "a267a519-2f88-4701-dba0-334e4ecf47f3"
      },
      "execution_count": 12,
      "outputs": [
        {
          "output_type": "stream",
          "name": "stdout",
          "text": [
            "Enter first number: 5\n",
            "Enter second number: -2\n",
            "a > 0 and b > 0: False\n",
            "a > 0 or b > 0: True\n",
            "not (a > 0): False\n"
          ]
        }
      ]
    },
    {
      "cell_type": "code",
      "source": [
        "#Write a Python program to convert user input from string to integer, float, and boolean types.\n",
        "x = input(\"Enter something: \")\n",
        "\n",
        "print(\"As Integer:\", int(x))\n",
        "print(\"As Float:\", float(x))\n",
        "print(\"As Boolean:\", bool(x))\n"
      ],
      "metadata": {
        "colab": {
          "base_uri": "https://localhost:8080/"
        },
        "id": "XEpAd0lpBodj",
        "outputId": "1dc3a80a-392b-405c-a73c-09d6829d173d"
      },
      "execution_count": 14,
      "outputs": [
        {
          "output_type": "stream",
          "name": "stdout",
          "text": [
            "Enter something: 8768\n",
            "As Integer: 8768\n",
            "As Float: 8768.0\n",
            "As Boolean: True\n"
          ]
        }
      ]
    },
    {
      "cell_type": "code",
      "source": [
        "#Write code to demonstrate type casting with list elements\n",
        "# List of strings (numbers)\n",
        "str_list = ['1', '2', '3']\n",
        "\n",
        "# Convert to integers\n",
        "int_list = [int(x) for x in str_list]\n",
        "\n",
        "print(\"Original (str):\", str_list)\n",
        "print(\"Converted (int):\", int_list)\n"
      ],
      "metadata": {
        "colab": {
          "base_uri": "https://localhost:8080/"
        },
        "id": "ADl-yBVhCJ6X",
        "outputId": "b10d944d-1c53-48df-86e4-d38e54094032"
      },
      "execution_count": 15,
      "outputs": [
        {
          "output_type": "stream",
          "name": "stdout",
          "text": [
            "Original (str): ['1', '2', '3']\n",
            "Converted (int): [1, 2, 3]\n"
          ]
        }
      ]
    },
    {
      "cell_type": "code",
      "source": [
        "#Write a program that checks if a number is positive, negative, or zero\n",
        "num = float(input(\"Enter a number: \"))\n",
        "\n",
        "if num > 0:\n",
        "    print(\"Positive number\")\n",
        "elif num < 0:\n",
        "    print(\"Negative number\")\n",
        "else:\n",
        "    print(\"Zero\")\n"
      ],
      "metadata": {
        "colab": {
          "base_uri": "https://localhost:8080/"
        },
        "id": "y3O8UXGECZQp",
        "outputId": "56dd8980-238c-444c-b958-39d7e6ebe97c"
      },
      "execution_count": 16,
      "outputs": [
        {
          "output_type": "stream",
          "name": "stdout",
          "text": [
            "Enter a number: 85\n",
            "Positive number\n"
          ]
        }
      ]
    },
    {
      "cell_type": "code",
      "source": [
        "#Write a for loop to print numbers from 1 to 10\n",
        "for i in range(10):\n",
        "  print(i)"
      ],
      "metadata": {
        "colab": {
          "base_uri": "https://localhost:8080/"
        },
        "id": "BrjHyApOClr1",
        "outputId": "09d89450-f34d-4b2a-f46d-9b1819390590"
      },
      "execution_count": 19,
      "outputs": [
        {
          "output_type": "stream",
          "name": "stdout",
          "text": [
            "0\n",
            "1\n",
            "2\n",
            "3\n",
            "4\n",
            "5\n",
            "6\n",
            "7\n",
            "8\n",
            "9\n"
          ]
        }
      ]
    },
    {
      "cell_type": "code",
      "source": [
        "# Write a Python program to find the sum of all even numbers between 1 and 50\n",
        "for i in range(50):\n",
        "  if i % 2 == 0:\n",
        "    print(f\"'{i}' is even number\")\n",
        "  else:\n",
        "    print(f\"'{i}' is odd numbeer\")"
      ],
      "metadata": {
        "colab": {
          "base_uri": "https://localhost:8080/"
        },
        "id": "p3MrfkKPCsAU",
        "outputId": "09c2294f-f8c9-47c1-ea7b-6455b41a8cd7"
      },
      "execution_count": 20,
      "outputs": [
        {
          "output_type": "stream",
          "name": "stdout",
          "text": [
            "'0' is even number\n",
            "'1' is odd numbeer\n",
            "'2' is even number\n",
            "'3' is odd numbeer\n",
            "'4' is even number\n",
            "'5' is odd numbeer\n",
            "'6' is even number\n",
            "'7' is odd numbeer\n",
            "'8' is even number\n",
            "'9' is odd numbeer\n",
            "'10' is even number\n",
            "'11' is odd numbeer\n",
            "'12' is even number\n",
            "'13' is odd numbeer\n",
            "'14' is even number\n",
            "'15' is odd numbeer\n",
            "'16' is even number\n",
            "'17' is odd numbeer\n",
            "'18' is even number\n",
            "'19' is odd numbeer\n",
            "'20' is even number\n",
            "'21' is odd numbeer\n",
            "'22' is even number\n",
            "'23' is odd numbeer\n",
            "'24' is even number\n",
            "'25' is odd numbeer\n",
            "'26' is even number\n",
            "'27' is odd numbeer\n",
            "'28' is even number\n",
            "'29' is odd numbeer\n",
            "'30' is even number\n",
            "'31' is odd numbeer\n",
            "'32' is even number\n",
            "'33' is odd numbeer\n",
            "'34' is even number\n",
            "'35' is odd numbeer\n",
            "'36' is even number\n",
            "'37' is odd numbeer\n",
            "'38' is even number\n",
            "'39' is odd numbeer\n",
            "'40' is even number\n",
            "'41' is odd numbeer\n",
            "'42' is even number\n",
            "'43' is odd numbeer\n",
            "'44' is even number\n",
            "'45' is odd numbeer\n",
            "'46' is even number\n",
            "'47' is odd numbeer\n",
            "'48' is even number\n",
            "'49' is odd numbeer\n"
          ]
        }
      ]
    },
    {
      "cell_type": "code",
      "source": [
        "#Write a program to reverse a string using a while loop.\n",
        "text = input(\"Enter a string: \")\n",
        "reversed_text = \"\"\n",
        "i = len(text) - 1\n",
        "\n",
        "while i >= 0:\n",
        "    reversed_text += text[i]\n",
        "    i -= 1\n",
        "\n",
        "print(\"Reversed string:\", reversed_text)\n"
      ],
      "metadata": {
        "colab": {
          "base_uri": "https://localhost:8080/"
        },
        "id": "MHE4mw5DDBWU",
        "outputId": "f8dfa3df-8d78-4c21-fd92-ffc881df61e0"
      },
      "execution_count": 23,
      "outputs": [
        {
          "output_type": "stream",
          "name": "stdout",
          "text": [
            "Enter a string: reverse\n",
            "Reversed string: esrever\n"
          ]
        }
      ]
    },
    {
      "cell_type": "code",
      "source": [
        "#Write a Python program to calculate the factorial of a number provided by the user using a while loop.\n",
        "num = int(input(\"Enter a number: \"))\n",
        "fact = 1\n",
        "i = 1\n",
        "\n",
        "while i <= num:\n",
        "    fact *= i\n",
        "    i += 1\n",
        "\n",
        "print(\"Factorial:\", fact)\n"
      ],
      "metadata": {
        "colab": {
          "base_uri": "https://localhost:8080/"
        },
        "id": "B-3cyEnJDZWH",
        "outputId": "03e098c3-2a2b-4004-8adc-42696c974403"
      },
      "execution_count": 25,
      "outputs": [
        {
          "output_type": "stream",
          "name": "stdout",
          "text": [
            "Enter a number: 5\n",
            "Factorial: 120\n"
          ]
        }
      ]
    },
    {
      "cell_type": "markdown",
      "source": [
        "END\n",
        "\n",
        "\n",
        "---\n",
        "\n",
        "\n",
        "\n",
        "---\n",
        "\n"
      ],
      "metadata": {
        "id": "m4-VjJJ3DuRV"
      }
    },
    {
      "cell_type": "code",
      "source": [],
      "metadata": {
        "id": "NDE5xRd8DqN8"
      },
      "execution_count": null,
      "outputs": []
    }
  ]
}